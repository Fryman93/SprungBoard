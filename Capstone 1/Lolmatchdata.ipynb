{
 "cells": [
  {
   "cell_type": "code",
   "execution_count": 1,
   "metadata": {},
   "outputs": [],
   "source": [
    "import time \n",
    "import requests\n",
    "API_KEY = ''\n",
    "\n",
    "# Sets up request for NEW dataset\n",
    "\n",
    "indexes = [0,99,99*2,99*3,99*4,99*5,99*6,99*7,99*8]\n",
    "lol_data = []\n",
    "for index in indexes:\n",
    "    r = requests.get(f'https://na1.api.riotgames.com/lol/match/v4/matchlists/by-account/IStByM8cshEA9Ql4agQ2RcKT19EySymWXCGM9G82SvVY-v8?api_key={API_KEY}&beginIndex={index}&endIndex={index+98}') \n",
    "    for match in r.json()['matches']:\n",
    "        lol_data.append(requests.get(f'https://na1.api.riotgames.com/lol/match/v4/matches/{match[\"gameId\"]}?api_key={API_KEY}').json())\n",
    "    time.sleep(125)\n"
   ]
  },
  {
   "cell_type": "code",
   "execution_count": 2,
   "metadata": {},
   "outputs": [],
   "source": [
    "# Creates the json into an actual file\n",
    "\n",
    "import json\n",
    "with open('lol_data.json', 'w') as outfile:  \n",
    "    json.dump(lol_data, outfile)"
   ]
  }
 ],
 "metadata": {
  "kernelspec": {
   "display_name": "Python 3",
   "language": "python",
   "name": "python3"
  },
  "language_info": {
   "codemirror_mode": {
    "name": "ipython",
    "version": 3
   },
   "file_extension": ".py",
   "mimetype": "text/x-python",
   "name": "python",
   "nbconvert_exporter": "python",
   "pygments_lexer": "ipython3",
   "version": "3.7.0"
  }
 },
 "nbformat": 4,
 "nbformat_minor": 2
}
