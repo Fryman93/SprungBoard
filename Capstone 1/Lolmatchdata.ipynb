{
 "cells": [
  {
   "cell_type": "markdown",
   "metadata": {},
   "source": [
    "### Prologue: API requests"
   ]
  },
  {
   "cell_type": "code",
   "execution_count": 1,
   "metadata": {},
   "outputs": [],
   "source": [
    "import json\n",
    "import time \n",
    "import requests\n",
    "API_KEY = ''\n",
    "\n",
    "# Sets up request for dataset\n",
    "\n",
    "indexes = [0,99,99*2,99*3,99*4,99*5,99*6,99*7,99*8,99*9,99*10,99*11,99*12,99*13,99*14,99*15,99*16]\n",
    "lol_data = []\n",
    "for index in indexes:\n",
    "    # r sends a request for matchIDs based on a player's username. Here I use mine\n",
    "    r = requests.get(f'https://na1.api.riotgames.com/lol/match/v4/matchlists/by-account/IStByM8cshEA9Ql4agQ2RcKT19EySymWXCGM9G82SvVY-v8?api_key={API_KEY}&beginIndex={index}&endIndex={index+98}') \n",
    "    for match in r.json()['matches']:\n",
    "        # Each request 'received' has gameIDs that correspond to a game played\n",
    "        # The gameID can be used to go to a different endpoint and get the JSON file I want\n",
    "        lol_data.append(requests.get(f'https://na1.api.riotgames.com/lol/match/v4/matches/{match[\"gameId\"]}?api_key={API_KEY}').json())\n",
    "    time.sleep(125)\n"
   ]
  },
  {
   "cell_type": "code",
   "execution_count": 2,
   "metadata": {},
   "outputs": [],
   "source": [
    "# Puts the json into an actual file\n",
    "\n",
    "with open('much_lol_data.json', 'w') as outfile:  \n",
    "    json.dump(lol_data, outfile)"
   ]
  }
 ],
 "metadata": {
  "kernelspec": {
   "display_name": "Python 3",
   "language": "python",
   "name": "python3"
  },
  "language_info": {
   "codemirror_mode": {
    "name": "ipython",
    "version": 3
   },
   "file_extension": ".py",
   "mimetype": "text/x-python",
   "name": "python",
   "nbconvert_exporter": "python",
   "pygments_lexer": "ipython3",
   "version": "3.7.0"
  }
 },
 "nbformat": 4,
 "nbformat_minor": 2
}
